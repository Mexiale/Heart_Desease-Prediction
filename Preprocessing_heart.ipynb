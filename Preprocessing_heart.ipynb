{
 "cells": [
  {
   "cell_type": "markdown",
   "metadata": {},
   "source": [
    "# Preprocessing"
   ]
  },
  {
   "cell_type": "code",
   "execution_count": 21,
   "metadata": {},
   "outputs": [],
   "source": [
    "import warnings\n",
    "warnings.filterwarnings('ignore')\n",
    "import pandas as pd\n",
    "import numpy as np\n",
    "import seaborn as sns\n",
    "import matplotlib.pyplot as plt\n",
    "\n",
    "from sklearn.preprocessing import OneHotEncoder, StandardScaler\n",
    "from sklearn.model_selection import train_test_split, StratifiedShuffleSplit,learning_curve\n",
    "from sklearn.linear_model import LogisticRegression\n",
    "from sklearn.metrics import confusion_matrix, classification_report, f1_score, classification_report\n",
    "from sklearn.model_selection import train_test_split, cross_val_score, learning_curve\n",
    "from sklearn.ensemble import RandomForestClassifier\n",
    "from sklearn.tree import DecisionTreeClassifier\n",
    "from sklearn import utils \n",
    "from sklearn.pipeline import make_pipeline"
   ]
  },
  {
   "cell_type": "code",
   "execution_count": 5,
   "metadata": {},
   "outputs": [],
   "source": [
    "df = pd.read_excel('Dataset.xlsx')\n",
    "Data = df.copy()"
   ]
  },
  {
   "cell_type": "code",
   "execution_count": 6,
   "metadata": {},
   "outputs": [],
   "source": [
    "train_set, test_set = train_test_split(Data, test_size=0.3, random_state = 1)"
   ]
  },
  {
   "cell_type": "code",
   "execution_count": 7,
   "metadata": {},
   "outputs": [
    {
     "data": {
      "text/plain": [
       "1    0.531153\n",
       "0    0.468847\n",
       "Name: CŒUR, dtype: float64"
      ]
     },
     "execution_count": 7,
     "metadata": {},
     "output_type": "execute_result"
    }
   ],
   "source": [
    "train_set['CŒUR'].value_counts(normalize=True)"
   ]
  },
  {
   "cell_type": "code",
   "execution_count": 8,
   "metadata": {},
   "outputs": [
    {
     "data": {
      "text/plain": [
       "1    0.605072\n",
       "0    0.394928\n",
       "Name: CŒUR, dtype: float64"
      ]
     },
     "execution_count": 8,
     "metadata": {},
     "output_type": "execute_result"
    }
   ],
   "source": [
    "test_set['CŒUR'].value_counts(normalize=True)"
   ]
  },
  {
   "cell_type": "code",
   "execution_count": 9,
   "metadata": {},
   "outputs": [
    {
     "name": "stdout",
     "output_type": "stream",
     "text": [
      "SEXE ['homme' 'femme']\n",
      "TDT ['AA' 'DNA' 'ASY' 'AT']\n",
      "ECG ['Normal' 'ST' 'LVH']\n",
      "ANGINE ['Non' 'Oui']\n",
      "PENTE ['Ascendant' 'Plat' 'Descendant']\n"
     ]
    }
   ],
   "source": [
    "for col in Data.select_dtypes(\"object\"):\n",
    "    print(col, Data[col].unique())"
   ]
  },
  {
   "cell_type": "code",
   "execution_count": 10,
   "metadata": {},
   "outputs": [],
   "source": [
    "def encodage(Data):\n",
    "    Encoder = {\n",
    "        'femme': 1,\n",
    "        'homme':0,\n",
    "        'AA':0,\n",
    "        'DNA':1,\n",
    "        'ASY':2,\n",
    "        'AT':3,\n",
    "        'Normal':0,\n",
    "        'ST':1,\n",
    "        'LVH':2,\n",
    "        'Non':0,\n",
    "        'oui':1,\n",
    "        'Ascendant':0,\n",
    "        'Plat':1,\n",
    "        'Descendant':2\n",
    "    }\n",
    "    for col in Data.select_dtypes(\"object\").columns:\n",
    "        Data[col] = Data[col].map(Encoder)\n",
    "\n",
    "    return Data\n"
   ]
  },
  {
   "cell_type": "code",
   "execution_count": 11,
   "metadata": {},
   "outputs": [],
   "source": [
    "def processing(Data):\n",
    "    \n",
    "    Data = encodage(Data)\n",
    "    Data = Data.dropna(axis=0)\n",
    "    \n",
    "    X = Data.drop('CŒUR', axis=1)\n",
    "    y = Data['CŒUR']\n",
    "    \n",
    "    print(y.value_counts())\n",
    "    \n",
    "    return X,y"
   ]
  },
  {
   "cell_type": "code",
   "execution_count": 12,
   "metadata": {},
   "outputs": [
    {
     "name": "stdout",
     "output_type": "stream",
     "text": [
      "0    258\n",
      "1    129\n",
      "Name: CŒUR, dtype: int64\n"
     ]
    }
   ],
   "source": [
    "X_train, y_train = processing(train_set)"
   ]
  },
  {
   "cell_type": "code",
   "execution_count": 16,
   "metadata": {},
   "outputs": [
    {
     "name": "stdout",
     "output_type": "stream",
     "text": [
      "0    97\n",
      "1    63\n",
      "Name: CŒUR, dtype: int64\n"
     ]
    }
   ],
   "source": [
    "X_test, y_test = processing(test_set)"
   ]
  },
  {
   "cell_type": "markdown",
   "metadata": {},
   "source": [
    "## Modélisation"
   ]
  },
  {
   "cell_type": "code",
   "execution_count": 13,
   "metadata": {},
   "outputs": [],
   "source": [
    "# Modèle d'arbre de décision\n",
    "model_A = DecisionTreeClassifier(random_state=1)"
   ]
  },
  {
   "cell_type": "code",
   "execution_count": 22,
   "metadata": {},
   "outputs": [],
   "source": [
    "def evaluation(model_A):\n",
    "    model_A.fit(X_train, y_train)\n",
    "    y_pred = model_A.predict(X_test)\n",
    "    \n",
    "    print(confusion_matrix(y_test, y_pred))\n",
    "    print(classification_report(y_test, y_pred))\n",
    "    \n",
    "    N, train_score, val_score = learning_curve(model_A, X_train, y_train, cv=4, scoring = 'f1', train_sizes = np.linspace(0.1, 1, 10))\n",
    "    plt.figure(figsize = (10,8))\n",
    "    plt.plot(N, train_score.mean(axis=1), label= 'train score' )\n",
    "    plt.plot(N, val_score.mean(axis=1), label= 'Validation score' )\n",
    "    plt.legend()"
   ]
  },
  {
   "cell_type": "code",
   "execution_count": 23,
   "metadata": {},
   "outputs": [
    {
     "name": "stdout",
     "output_type": "stream",
     "text": [
      "[[81 16]\n",
      " [21 42]]\n",
      "              precision    recall  f1-score   support\n",
      "\n",
      "           0       0.79      0.84      0.81        97\n",
      "           1       0.72      0.67      0.69        63\n",
      "\n",
      "    accuracy                           0.77       160\n",
      "   macro avg       0.76      0.75      0.75       160\n",
      "weighted avg       0.77      0.77      0.77       160\n",
      "\n"
     ]
    },
    {
     "data": {
      "image/png": "[encoded data removed]",
      "text/plain": [
       "<Figure size 720x576 with 1 Axes>"
      ]
     },
     "metadata": {
      "needs_background": "light"
     },
     "output_type": "display_data"
    }
   ],
   "source": [
    "evaluation(model_A)"
   ]
  },
  {
   "cell_type": "code",
   "execution_count": 24,
   "metadata": {},
   "outputs": [],
   "source": [
    "#Random Forest\n",
    "model_B = make_pipeline(StandardScaler(), RandomForestClassifier())"
   ]
  },
  {
   "cell_type": "code",
   "execution_count": 25,
   "metadata": {},
   "outputs": [
    {
     "name": "stdout",
     "output_type": "stream",
     "text": [
      "[[89  8]\n",
      " [17 46]]\n",
      "              precision    recall  f1-score   support\n",
      "\n",
      "           0       0.84      0.92      0.88        97\n",
      "           1       0.85      0.73      0.79        63\n",
      "\n",
      "    accuracy                           0.84       160\n",
      "   macro avg       0.85      0.82      0.83       160\n",
      "weighted avg       0.84      0.84      0.84       160\n",
      "\n"
     ]
    },
    {
     "data": {
      "image/png": "[encoded data removed]",
      "text/plain": [
       "<Figure size 720x576 with 1 Axes>"
      ]
     },
     "metadata": {
      "needs_background": "light"
     },
     "output_type": "display_data"
    }
   ],
   "source": [
    "evaluation(model_B)"
   ]
  },
  {
   "cell_type": "code",
   "execution_count": null,
   "metadata": {},
   "outputs": [],
   "source": []
  }
 ],
 "metadata": {
  "kernelspec": {
   "display_name": "Python 3",
   "language": "python",
   "name": "python3"
  },
  "language_info": {
   "codemirror_mode": {
    "name": "ipython",
    "version": 3
   },
   "file_extension": ".py",
   "mimetype": "text/x-python",
   "name": "python",
   "nbconvert_exporter": "python",
   "pygments_lexer": "ipython3",
   "version": "3.8.5"
  }
 },
 "nbformat": 4,
 "nbformat_minor": 4
}
