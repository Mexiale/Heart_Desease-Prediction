{
 "cells": [
  {
   "cell_type": "markdown",
   "metadata": {},
   "source": [
    "## Contexte\n",
    "- Les maladies cardiovasculaires sont la première cause de décès dans le monde, faisant environ 17,9 millions de vies chaque année, ce qui represente 31% de tous les décès dans le monde. Quatre décès sur 5 par MCV sont dus à des crises cardiaques et à des accidents vasculaires cérébraux, et un tiers de ces décès surviennent prématurément chez des personnes de moins de 70 ans. \n",
    "- L'insuffisance cardiaque est un événement courant causé par les maladies cardiovasculaires et cet ensemble de données contient 11 caractéristiques qui peuvent être utilisées pour prédire une éventuelle maladie cardiaque.\n",
    "- Les personnes atteintes de maladies cardiovasculaires ou à haut risque cardiovasculaire (en raison de la présence d un ou plusieurs facteurs de risque tels que l hypertension, le diabète, l'hyperlipidémie ou une maladie déjà établie) ont besoin d une détection et d une gestion précoces dans lesquelles un modèle d apprentissage automatique peut être d une grande aide.\n",
    "\n",
    "## Objectif :\n",
    "- Comprendre du mieux possible nos données \n",
    "- Utiliser différentes techniques d'analyse de données et machine learning pour faire la prédiction d'une maladie cardiaque chez un patient.\n",
    "\n",
    "## Checklist de base\n",
    "#### Analyse de Forme :\n",
    "- **variable target** : coeur\n",
    "\n",
    "- Le contexte du projet nous dit qu'un tier des maladies cardio vasculaires subviennent chez les personnes de moins de moins de 70 ans ( c'est une hypothèse que nous allons vérifié plutard)\n",
    "\n",
    "- **lignes et colonnes** : 918 lignes, 12 colonnes signifiant qu'il y a 918 enrégistrements de clients sur 12 caractéristiques.\n",
    "\n",
    "- **types de variables** : A l'affichage des informations du dataset, on remarque qu'il y a, à priori, des variables de type int64(6), float64(1) et object(5)\n",
    "\n",
    "- **Existe t-il des valeurs manquantes ?** : Notre jeu de données ne comportent aucune donnée manquante. \n",
    "\n",
    "- **Existe t-il des valeurs dupliquées ?** : Il n'y a pas de valeurs dupliquées\n",
    "\n",
    "- **Existe t-il des valeurs constantes ?** : Il n'y a pas de valeurs constantes.\n",
    "\n",
    "- Séparons nos variables quantitatives et qualitatives\n",
    "\n",
    "- **Distribution des variables quantitatives** : A vue d'oeil,nous remarquons que les variables 'CHOLESTEROL' et 'DEPRESSION' ont une distribution plus différentes que les autres. Fesons un test de shapiro-wilk pour vérifier cette hypothèse. \n",
    "* Le test montre que ses deux variables ('CHOLESTEROL' et 'DEPRESSION') ne suivent pas une distribution normale.\n",
    "* Regardons de plus prêt ses deux variables. En fesant un histogramme sur la variable 'CHOLESTEROL', on remarque qu'il y a plus de 300 patients qui ont un taux de cholestérol compris entre 180 mm/dl et 250 mm/dl.Quand à la variable \"DEPRESSION\", lorsqu'elle avoisine -1 elle comporte plus de patients. \n",
    "\n",
    "- **Visualisation des variables qualitatives** : Nous remarquons qu'il y a dans notre dataset:\n",
    "* Plus d'hommes (79%) que de femmes (21%)\n",
    "* Plus de patient ayant une douleur thoracique de type asymptomatique(54%), que d'autres types de patient ayant d'autres types de douleurs .La présence d'angine est-elle un facteur qui cause la maladie cardiaque ?\n",
    "* La pente du segment ST est le plus souvent Plat (50.1%) que Ascendant(43%) et que Descendant(6,9%). Y a t'il un facteur qui influe sur cette variable ? Est-elle une variable importante vis à vis de la variable cible ?\n",
    "* L'électrocardiogramme au repos est le plus souvent normal\n",
    "* Moins de patient ayant une angine induite par l'exercise(40,4%)que ceux ayant une angine non induite par l'exercise.\n",
    "\n",
    "- **Visualisation des variables Quantitatives-Quantitatives**: Les différentes répresentations montrent qu'il n'y a pas une rélation linéaire entre nos variables quantitatives. Mais alors, quelle est la rélation qui lit nos variables ? \n",
    "\n",
    "- **Visualisation des variables Quantitatives-Qualitatives**: Ici, voyons l'impacte de l'age sur les caractéristiques observées chez le patient.\n",
    "* On observe que dans notre dataset, que l'age est une variable significative, plus le patient est agé, plus il a de chance de contracter une douleur ou un symptome. Nous allons plutard appronfondir cette hypothèse.\n",
    "* On observe également que la depression\n",
    "\n",
    "- **Visualisation de la variable cible** : On observe que notre variable ne suis pas une loie normale. Il y a plus de patients n'ayant pas de maladie cardiaque que de patients ayant une maladie cardiaque.\n",
    "\n",
    "- **Visualisation des variables Quantitatives - Variables Cibles** : \n",
    "\n",
    "- **Visualisation Qualitatives - Variable Cible :** La visualisation de ses graphiques nous apprends que : \n",
    "* Les hommes sont plus atteints par le cancer que les femmes\n",
    "* Les personnes ayant un cancer on une forte quantité de \n",
    "\n",
    "\n",
    "\n",
    "\n",
    "\n"
   ]
  },
  {
   "cell_type": "code",
   "execution_count": null,
   "metadata": {},
   "outputs": [],
   "source": []
  }
 ],
 "metadata": {
  "kernelspec": {
   "display_name": "Python 3",
   "language": "python",
   "name": "python3"
  },
  "language_info": {
   "codemirror_mode": {
    "name": "ipython",
    "version": 3
   },
   "file_extension": ".py",
   "mimetype": "text/x-python",
   "name": "python",
   "nbconvert_exporter": "python",
   "pygments_lexer": "ipython3",
   "version": "3.8.5"
  }
 },
 "nbformat": 4,
 "nbformat_minor": 4
}
